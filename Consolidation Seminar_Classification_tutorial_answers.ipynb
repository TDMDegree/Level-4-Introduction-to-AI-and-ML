{
  "nbformat": 4,
  "nbformat_minor": 0,
  "metadata": {
    "colab": {
      "provenance": [],
      "authorship_tag": "ABX9TyOgStNTTDP9xGf4p0DVIWmz",
      "include_colab_link": true
    },
    "kernelspec": {
      "name": "python3",
      "display_name": "Python 3"
    },
    "language_info": {
      "name": "python"
    }
  },
  "cells": [
    {
      "cell_type": "markdown",
      "metadata": {
        "id": "view-in-github",
        "colab_type": "text"
      },
      "source": [
        "<a href=\"https://colab.research.google.com/github/TDMDegree/Level-4-Introduction-to-AI-and-ML/blob/main/Consolidation%20Seminar_Classification_tutorial_answers.ipynb\" target=\"_parent\"><img src=\"https://colab.research.google.com/assets/colab-badge.svg\" alt=\"Open In Colab\"/></a>"
      ]
    },
    {
      "cell_type": "markdown",
      "source": [
        "\n",
        "\n",
        "Introduction\n",
        "\n",
        "The adult dataset is from the 1994 Census database. Details of this dataset can be found at the UCI Machine Learning Repository. My main aim is to create a model to get a prediction of whether their income will exceed $50,000. The objectives that I will follow to complete my main aim are set out below:\n",
        "\n",
        "1) Clean the data: Replace or delete missing data.\n",
        "\n",
        "2) Explore the data: Delete any unnecessary fields\n",
        "\n",
        "3) Scale the data\n",
        "\n",
        "4)Convert the needed data for modelling.\n",
        "\n",
        "5) Explore the machine learning algorithms.\n",
        "\n",
        "6)Optimise the selected machine learning algorithm.\n",
        "\n",
        "\n"
      ],
      "metadata": {
        "id": "wDyL1bgwCMpk"
      }
    },
    {
      "cell_type": "markdown",
      "source": [
        "\n",
        "\n",
        "Stage 1: Exploratory Data Analysis (EDA)\n",
        "\n",
        "Task 1 - Present the code that tells me all of the columns, data types, and records\n",
        "\n",
        "Importantly, you should begin considering whether the dimensionality of the dataset is high or low. Additionally, you should strive to understand the information described by all the columns.\n"
      ],
      "metadata": {
        "id": "EvPmBi-9CPQf"
      }
    },
    {
      "cell_type": "code",
      "source": [
        "#Task 1 - upload the Salary.txt file and turn it into a pandas dataframe.\n",
        "import pandas as pd\n",
        "\n",
        "df = pd.read_csv(\"Salary.txt\",index_col=False, names = [ \"age\" ,\"workclass\", \"fnlwgt\",\"education\",\"education-num\",\"marital-status\",\"occupation\",\"relationship\",\"race\",\"sex\",\"capital-gain\",\"capital-loss\",\"hours-per-week\",\"native-country\",\"label\"])\n",
        "\n",
        "print(df.info())"
      ],
      "metadata": {
        "id": "XAdTW-SbCgfg"
      },
      "execution_count": null,
      "outputs": []
    },
    {
      "cell_type": "markdown",
      "source": [
        "From the information collected on the dataframe, we know that there are 14 features that could be used for predicting the label column. However, from the original 15 columns, 2 columns are not self-explanatory. Both fnlwgt and education-num does not have an obvious correlation to the salary. After further examining the information on the dataset, fnlwgt is a weight on the sample and education-num is a repetitive column repeating the information in the education columns. It was decided that both columns would be dropped from the dataframe."
      ],
      "metadata": {
        "id": "hm-4PO09KnPq"
      }
    },
    {
      "cell_type": "code",
      "source": [
        "# Task 2 - drop the following columns from the dataframe :\"fnlwgt\", \"education-num\"\n",
        "df = df.drop([\"fnlwgt\", \"education-num\"], axis=1)\n",
        "print(df.info())"
      ],
      "metadata": {
        "id": "hYCjqe25Kpvm"
      },
      "execution_count": null,
      "outputs": []
    },
    {
      "cell_type": "markdown",
      "source": [
        "\n",
        "\n",
        "From the information file on the dataset, we know that all missing data was represented as \"?\".\n",
        "\n",
        "All missing data was changed to the numpy form \"NaN\".\n"
      ],
      "metadata": {
        "id": "lIXEU6OKLM0E"
      }
    },
    {
      "cell_type": "code",
      "source": [
        "#Task 3 - replace the ? with pd.Na\n",
        "\n",
        "df = df.replace(\" ?\", pd.NA)"
      ],
      "metadata": {
        "id": "NW8dxTaALN4q"
      },
      "execution_count": null,
      "outputs": []
    },
    {
      "cell_type": "markdown",
      "source": [
        "A report on the missing data was then produced"
      ],
      "metadata": {
        "id": "seFXO7MyLUua"
      }
    },
    {
      "cell_type": "code",
      "source": [
        "#Task 4 - check to see if we have any missing values\n",
        "print(df.isnull().sum())"
      ],
      "metadata": {
        "id": "cQ5CmP2QLVOx"
      },
      "execution_count": null,
      "outputs": []
    },
    {
      "cell_type": "markdown",
      "source": [
        "More information was gathered to find out how much data would be lost if we deleted all the missing data."
      ],
      "metadata": {
        "id": "_WZa-JX3Lry_"
      }
    },
    {
      "cell_type": "code",
      "source": [
        "#Task 5 - check to see how many records we will lost by creating 2 dataframes. One that drops all missing values and the other that doesn't. Compare the number of records in each dataframe.\n",
        "new_df = df.dropna()\n",
        "print(\"################\")\n",
        "print(\"Total records that would be lost if deleted : \")\n",
        "print(df.shape[0]- new_df.shape[0])\n",
        "del new_df"
      ],
      "metadata": {
        "id": "B7xxzR0ALtDz"
      },
      "execution_count": null,
      "outputs": []
    },
    {
      "cell_type": "markdown",
      "source": [
        "Although we would lose only 2399 records out of 32561, further exploration of the data could result in a reduction in the loss of data.\n",
        "\n",
        "Importantly, there are several strategies that could be used to address this missing data. Before making a decision, I need to understand the significance of the missing records and the feature itself.\n",
        "\n",
        "**Exploring the data**"
      ],
      "metadata": {
        "id": "7X2lG7rpYpGt"
      }
    },
    {
      "cell_type": "code",
      "source": [
        "#Task 6- Find out the value count for each of the columns that have missing records\n",
        "print(df['workclass'].value_counts())\n",
        "print(df['occupation'].value_counts())\n",
        "print(df['native-country'].value_counts())\n",
        "\n"
      ],
      "metadata": {
        "id": "jLm4mjyCYo7t"
      },
      "execution_count": null,
      "outputs": []
    },
    {
      "cell_type": "markdown",
      "source": [
        "\n",
        "\n",
        "From the information above, we can see that 1 unique value of this feature has over 91% of the data. Therefore, a decision was made to change all missing data from the Native Country column to equal \"United States\".\n",
        "\n",
        "*Importantly, this was not the only handling strategy that could have been used. I could have tried to explore the correlation between country and salary to determine if I could have removed this feature completely or created a ML classification to predict the most likely country based on the other features. *\n",
        "\n",
        "Additional, the majority of the other unique values had such a low number of records, resulting in a high cardinality for those records. The decision was made to try and combine the countries together in a way that could add to the model. The decision was to use the information from the website :\n",
        "\n",
        "https://www.nationsonline.org/oneworld/GNI_PPP_of_countries.htm\n",
        "\n",
        "to split the countries into high_PPP ,medium_PPP and low_PPP.\n",
        "\n",
        "Task 7 - Replace all of np.NaN with United-States and loop round each of the arrays to replace based on high_PPP ,medium_PPP and low_PPP\n",
        "\n",
        "low_PPP = [\" Honduras\", \" Vietnam\",\" Cambodia\",\" Laos\",\" Haiti\", \" Yugoslavia\",\" India\",\" Guatemala\", \" Nicaragua\"]\n",
        "\n",
        "medium_PPP = [\" Trinadad&Tobago\",\" Poland\" ,\" Mexico\" , \" Thailand\",\" Iran\",\" Columbia\", \" Peru\", \" Philippines\" ,\" China\",\" Ecuador\" , \" Cuba\",\" El-Salvador\",\" Jamaica\",\" South\"]\n",
        "\n",
        "high_PPP = [\" Holand-Netherlands\",\" Scotland\",\" Ireland\",\" Hong\",\" Beligum\" ,\" Japan\",\" Italy\",\" England\",\" Germany\",\" Canada\",\" France\",\" Taiwan\",\" Greece\",\" Portugal\" , \" Hungary\",\" Outlying-US(Guam-USVI-etc)\", \" Puerto-Rico\", \" Dominican-Republic\"]\n",
        "\n",
        "Importantly, this was not the only handling strategy that could have been used. I could have keep the data as it was and evaluated the different models to select the most suitable one.\n"
      ],
      "metadata": {
        "id": "LQmOeg_1KodU"
      }
    },
    {
      "cell_type": "code",
      "source": [
        "\n",
        "df[\"native-country\"] = df[\"native-country\"].replace(pd.NA, \" United-States\")\n",
        "low_PPP = [\" Honduras\", \" Vietnam\",\" Cambodia\",\" Laos\",\" Haiti\",\n",
        "               \" Yugoslavia\",\" India\",\" Guatemala\", \" Nicaragua\"]\n",
        "medium_PPP = [\" Trinadad&Tobago\",\" Poland\" ,\" Mexico\" , \" Thailand\",\" Iran\",\n",
        "                \" Columbia\", \" Peru\", \" Philippines\" ,\" China\",\" Ecuador\" ,\n",
        "                \" Cuba\",\" El-Salvador\",\" Jamaica\",\" South\"]\n",
        "high_PPP = [\" Holand-Netherlands\",\" Scotland\",\" Ireland\",\" Hong\",\" Beligum\" ,\" Japan\",\" Italy\",\" England\",\" Germany\",\" Canada\",\" France\",\" Taiwan\",\" Greece\",\n",
        "               \" Portugal\" , \" Hungary\",\" Outlying-US(Guam-USVI-etc)\",\n",
        "               \" Puerto-Rico\", \" Dominican-Republic\"]\n",
        "\n",
        "for i in high_PPP:\n",
        "    df[\"native-country\"] = df[\"native-country\"].replace(i,\"high_PPP\")\n",
        "\n",
        "for i in medium_PPP:\n",
        "    df[\"native-country\"] = df[\"native-country\"].replace(i,\"medium_PPP\")\n",
        "\n",
        "for i in low_PPP:\n",
        "    df[\"native-country\"] = df[\"native-country\"].replace(i,\"  low_PPP\")\n",
        "\n",
        "print(df['native-country'].value_counts())"
      ],
      "metadata": {
        "id": "zTywQao9KoBN"
      },
      "execution_count": null,
      "outputs": []
    },
    {
      "cell_type": "markdown",
      "source": [
        "The next step would be to look at the working class and occupation data and how the data is distributed among the unique values. Does it have high cardinality ? What should I do with the missing values ?\n",
        "\n",
        "For the rest of the columns, I will drop all missing values"
      ],
      "metadata": {
        "id": "lDl3N6EMLtfK"
      }
    },
    {
      "cell_type": "code",
      "source": [
        "#task 11 - Drop all missing values\n",
        "df = df.dropna()"
      ],
      "metadata": {
        "id": "EaFat_3uMYb0"
      },
      "execution_count": null,
      "outputs": []
    },
    {
      "cell_type": "markdown",
      "source": [
        "\n",
        "\n",
        "Encoding the data\n",
        "\n",
        "The data has been cleaned and combined to make it more effective in the modeling process.However, currently there are still a number of columns that have an unsuitable datatype for some of the machine learning algorithms that I will be using.\n",
        "\n",
        "I will be converting all the object datatypes to a numerical type. The options that I have for this are using the Labelencoder and OneHotEncoder.\n",
        "\n",
        "Due to the non-ordinal relations between the data categories in each column. I have chosen to use pandas.get_dummies on the object datatypes -\n",
        "\n",
        "[\"workclass\",\"education\",\"marital-status\",\"occupation\",\"relationship\",\"race\",\"sex\",\"native-country\" were converted to a numeric value.]\n"
      ],
      "metadata": {
        "id": "bx5GRkNATb2J"
      }
    },
    {
      "cell_type": "code",
      "source": [
        "#task 12 - encode the following columns \"workclass\",\"education\",\"marital-status\",\"occupation\",\"relationship\",\"race\",\"sex\",\"native-country\" using the pd.get_dummies() method\n",
        "df.info()\n",
        "features = df[[\"workclass\",\"education\",\"marital-status\",\"occupation\",\"relationship\",\"race\",\"sex\",\"native-country\"]]\n",
        "new_features = pd.get_dummies(features)\n",
        "df.reset_index(inplace= True)\n",
        "new_features.reset_index(inplace= True)\n",
        "df = pd.merge(df,new_features,on=\"index\",how=\"inner\")\n",
        "df = df.drop([\"index\",\"workclass\",\"education\",\"marital-status\",\"relationship\",\"race\",\"sex\",\"native-country\",\"occupation\"],axis=1)\n",
        "df.head(2)"
      ],
      "metadata": {
        "id": "gmK5Xd5lTyE8"
      },
      "execution_count": null,
      "outputs": []
    },
    {
      "cell_type": "markdown",
      "source": [
        "These features are then added to the original dataframe, and the original columns deleted."
      ],
      "metadata": {
        "id": "1xq62RWOT2CZ"
      }
    },
    {
      "cell_type": "markdown",
      "source": [
        "\n",
        "\n",
        "Continuing with the necessary conversion of the data, the label column was updated so that:\n",
        "\n",
        "0 = Below $50,000\n",
        "\n",
        "1 = Above $50,000\n"
      ],
      "metadata": {
        "id": "OD2kob6UUKqR"
      }
    },
    {
      "cell_type": "code",
      "source": [
        "df['label'] = df['label'].replace({\" <=50K\": 0, \" >50K\": 1})\n",
        "print(df.head())\n"
      ],
      "metadata": {
        "id": "tCTsDA1tUOww"
      },
      "execution_count": null,
      "outputs": []
    },
    {
      "cell_type": "markdown",
      "source": [
        "Feature Selection\n",
        "\n",
        "Feature selection was then conducted to identify any highly or lowly correlated relationships between the label and the different variables. This process aims to reduce the dimensions of the dataset.\n",
        "\n",
        "No features were removed; however, justification should be provided regarding why this ML model was selected based on these findings.\n",
        "\n",
        "Importantly, this was just start and should have continued further for a more detailed correlation investigation"
      ],
      "metadata": {
        "id": "hf-h1MXQpRaU"
      }
    },
    {
      "cell_type": "code",
      "source": [
        "print (df[['label','capital-gain','age']].corr())\n"
      ],
      "metadata": {
        "id": "nO-a4hSVp7j_"
      },
      "execution_count": null,
      "outputs": []
    },
    {
      "cell_type": "markdown",
      "source": [
        "Lastly, I droped the label so I can start scaling and normalising the features."
      ],
      "metadata": {
        "id": "Zw7vH_aBqies"
      }
    },
    {
      "cell_type": "code",
      "source": [
        "label_df = df['label']\n",
        "features = df.drop(\"label\",axis = 1)\n",
        "print(features.columns)\n"
      ],
      "metadata": {
        "id": "Kyy_Vgtgp1WM"
      },
      "execution_count": null,
      "outputs": []
    },
    {
      "cell_type": "markdown",
      "source": [
        "Scaling the Data\n",
        "\n",
        "\n",
        "\n",
        "The features were then scaled due to the differences between distributions of the features.\n",
        "\n",
        "Importantly, I should really prove this by showing the distributions of the different features and discussing how it would impact the different ML models\n",
        "\n",
        "The MinMaxScaler was used to transforms the data.\n"
      ],
      "metadata": {
        "id": "jgdoN27zUT7W"
      }
    },
    {
      "cell_type": "code",
      "source": [
        "from sklearn.preprocessing import MinMaxScaler\n",
        "\n",
        "\n",
        "scaler = MinMaxScaler()\n",
        "scaler.fit(features)\n",
        "scaled_df = scaler.transform(features)\n",
        "scaled_df = pd.DataFrame(scaled_df, columns=features.columns)\n",
        "scaled_df.head(5)"
      ],
      "metadata": {
        "id": "oljFdOrRUZo8"
      },
      "execution_count": null,
      "outputs": []
    },
    {
      "cell_type": "markdown",
      "source": [
        "\n",
        "\n",
        "Exploring the machine learning algorithms\n",
        "\n",
        "With the transformation of the data complete, a selection of algorithms were chosen to explore the best method to predict the salary classification. Below are the selected algorithms :\n",
        "\n",
        "1)Logestic Regression\n",
        "\n",
        "2)Random Forest Tree\n",
        "\n",
        "3)Extra Trees\n",
        "\n",
        "4)Support Vector Machine\n",
        "\n",
        "5)Neural Network\n"
      ],
      "metadata": {
        "id": "NKvM8LtSrG3M"
      }
    },
    {
      "cell_type": "code",
      "source": [
        "from sklearn.model_selection import train_test_split\n",
        "from sklearn.model_selection import cross_val_score\n",
        "from sklearn.ensemble import RandomForestClassifier\n",
        "from sklearn.ensemble import ExtraTreesClassifier\n",
        "from sklearn import svm\n",
        "from sklearn.neural_network import MLPClassifier\n",
        "from sklearn.linear_model import LogisticRegression\n",
        "from sklearn.metrics import accuracy_score, confusion_matrix\n"
      ],
      "metadata": {
        "id": "hngGPWplrMyb"
      },
      "execution_count": null,
      "outputs": []
    },
    {
      "cell_type": "markdown",
      "source": [
        "The data was then divided into test and train datasets. We have 2 ways to divide our data, with the train_test_split option and cross_val_score. We will initially see the results from the test_train_split."
      ],
      "metadata": {
        "id": "Baux_ufpradV"
      }
    },
    {
      "cell_type": "code",
      "source": [
        "#task 15\n",
        "X_train, X_test,y_train,y_test = train_test_split(scaled_df,label_df)"
      ],
      "metadata": {
        "id": "Fht-N_NPrfT_"
      },
      "execution_count": null,
      "outputs": []
    },
    {
      "cell_type": "markdown",
      "source": [
        "The classifiers are then set to their default settings and each classifier is trained and tested with the data."
      ],
      "metadata": {
        "id": "v85rHv29rg8m"
      }
    },
    {
      "cell_type": "code",
      "source": [
        "classifiers = [\n",
        "    ExtraTreesClassifier(n_estimators=100),\n",
        "    svm.SVC(gamma='scale'),\n",
        "    RandomForestClassifier(n_estimators=100),\n",
        "    MLPClassifier(max_iter=1000),\n",
        "    LogisticRegression(max_iter=1000)\n",
        "]\n",
        "\n",
        "alo = []\n",
        "min_max = []\n",
        "standard_list = []\n",
        "confusion_matrix_list = []\n",
        "for clf in classifiers:\n",
        "    clf.fit(X_train,y_train)\n",
        "    name = clf.__class__.__name__\n",
        "    alo.append(name)\n",
        "    prediction = clf.predict(X_test)\n",
        "    acc = accuracy_score(y_test, prediction)\n",
        "    min_max.append(acc)\n",
        "    matrix = confusion_matrix(y_test, prediction)\n",
        "    confusion_matrix_list.append(matrix)"
      ],
      "metadata": {
        "id": "qVA8qm-2rjAY"
      },
      "execution_count": null,
      "outputs": []
    },
    {
      "cell_type": "markdown",
      "source": [
        "This information is placed in a chart so we can compare the accuracy of each classifier."
      ],
      "metadata": {
        "id": "RzTrPD59rmhI"
      }
    },
    {
      "cell_type": "code",
      "source": [
        "print(min_max)\n",
        "max_val = max(min_max)\n",
        "print(max_val)\n",
        "labels = list(alo)\n",
        "index = np.arange(1,len(alo)+1)\n",
        "bar_width = 0.35\n",
        "fig, ax = plt.subplots(figsize=(10,10))\n",
        "red_counter = False\n",
        "blue_counter = False\n",
        "for i in range(0,len(index)):\n",
        "    if max_val == min_max[i]:\n",
        "        colour = \"Green\"\n",
        "        label = \"Highest Acc Rating\"\n",
        "        ax.bar(index[i] ,min_max[i],bar_width,color=colour , label = label)\n",
        "    elif  min_max[i] > 0.8:\n",
        "        colour = \"r\"\n",
        "        label = \"Above 80% Acc Rating\"\n",
        "        if red_counter == False:\n",
        "            ax.bar(index[i] ,min_max[i],bar_width,color=colour , label = label)\n",
        "            red_counter = True\n",
        "        else:\n",
        "            ax.bar(index[i] ,min_max[i],bar_width,color=colour)\n",
        "\n",
        "    else:\n",
        "        label =\"Below 80% Acc Rating\"\n",
        "        colour = \"b\"\n",
        "        if blue_counter == False:\n",
        "            ax.bar(index[i] ,min_max[i],bar_width,color=colour , label = label)\n",
        "            blue_counter =True\n",
        "        else:\n",
        "            ax.bar(index[i] ,min_max[i],bar_width,color=colour)\n",
        "\n",
        "\n",
        "ax.legend(bbox_to_anchor=(1.3, 0.5))\n",
        "ax.spines[\"top\"].set_visible(False)\n",
        "ax.spines[\"right\"].set_visible(False)\n",
        "plt.xticks(range(1,len(labels)+1), labels)\n",
        "for index,info in enumerate(ax.get_xticklabels()):\n",
        "    info.set_rotation(90)\n",
        "    ax.text(index+0.90,min_max[index]+0.02,\"{:.2f}\".format(min_max[index]))"
      ],
      "metadata": {
        "id": "1iO5hu8prpjY",
        "colab": {
          "base_uri": "https://localhost:8080/",
          "height": 252
        },
        "outputId": "ca366b42-30df-4f2d-d95c-d1bba8b4ab30"
      },
      "execution_count": null,
      "outputs": [
        {
          "output_type": "stream",
          "name": "stdout",
          "text": [
            "[0.82421875, 0.8326822916666666, 0.8432291666666667, 0.83828125, 0.8438802083333333]\n",
            "0.8438802083333333\n"
          ]
        },
        {
          "output_type": "error",
          "ename": "NameError",
          "evalue": "name 'np' is not defined",
          "traceback": [
            "\u001b[0;31m---------------------------------------------------------------------------\u001b[0m",
            "\u001b[0;31mNameError\u001b[0m                                 Traceback (most recent call last)",
            "\u001b[0;32m<ipython-input-125-0099502cd6fb>\u001b[0m in \u001b[0;36m<cell line: 0>\u001b[0;34m()\u001b[0m\n\u001b[1;32m      3\u001b[0m \u001b[0mprint\u001b[0m\u001b[0;34m(\u001b[0m\u001b[0mmax_val\u001b[0m\u001b[0;34m)\u001b[0m\u001b[0;34m\u001b[0m\u001b[0;34m\u001b[0m\u001b[0m\n\u001b[1;32m      4\u001b[0m \u001b[0mlabels\u001b[0m \u001b[0;34m=\u001b[0m \u001b[0mlist\u001b[0m\u001b[0;34m(\u001b[0m\u001b[0malo\u001b[0m\u001b[0;34m)\u001b[0m\u001b[0;34m\u001b[0m\u001b[0;34m\u001b[0m\u001b[0m\n\u001b[0;32m----> 5\u001b[0;31m \u001b[0mindex\u001b[0m \u001b[0;34m=\u001b[0m \u001b[0mnp\u001b[0m\u001b[0;34m.\u001b[0m\u001b[0marange\u001b[0m\u001b[0;34m(\u001b[0m\u001b[0;36m1\u001b[0m\u001b[0;34m,\u001b[0m\u001b[0mlen\u001b[0m\u001b[0;34m(\u001b[0m\u001b[0malo\u001b[0m\u001b[0;34m)\u001b[0m\u001b[0;34m+\u001b[0m\u001b[0;36m1\u001b[0m\u001b[0;34m)\u001b[0m\u001b[0;34m\u001b[0m\u001b[0;34m\u001b[0m\u001b[0m\n\u001b[0m\u001b[1;32m      6\u001b[0m \u001b[0mbar_width\u001b[0m \u001b[0;34m=\u001b[0m \u001b[0;36m0.35\u001b[0m\u001b[0;34m\u001b[0m\u001b[0;34m\u001b[0m\u001b[0m\n\u001b[1;32m      7\u001b[0m \u001b[0mfig\u001b[0m\u001b[0;34m,\u001b[0m \u001b[0max\u001b[0m \u001b[0;34m=\u001b[0m \u001b[0mplt\u001b[0m\u001b[0;34m.\u001b[0m\u001b[0msubplots\u001b[0m\u001b[0;34m(\u001b[0m\u001b[0mfigsize\u001b[0m\u001b[0;34m=\u001b[0m\u001b[0;34m(\u001b[0m\u001b[0;36m10\u001b[0m\u001b[0;34m,\u001b[0m\u001b[0;36m10\u001b[0m\u001b[0;34m)\u001b[0m\u001b[0;34m)\u001b[0m\u001b[0;34m\u001b[0m\u001b[0;34m\u001b[0m\u001b[0m\n",
            "\u001b[0;31mNameError\u001b[0m: name 'np' is not defined"
          ]
        }
      ]
    },
    {
      "cell_type": "markdown",
      "source": [
        "\n",
        "\n",
        "As we can see,  all machine learning algorithms are above 80% with the NN slightly edging it at >85 % accuracy. With so many algorithms having a similar accuracy rating, further investigation will be undertaken by looking at the confusion matrix.\n",
        "\n",
        "\n",
        "\n"
      ],
      "metadata": {
        "id": "VLTpx3RprsXl"
      }
    },
    {
      "cell_type": "code",
      "source": [
        "from matplotlib.gridspec import GridSpec\n",
        "confusion_matrix_list\n",
        "fig = plt.figure(figsize=(10,10))\n",
        "gs = GridSpec(2,2)\n",
        "ax1 = plt.subplot(gs[0,0])\n",
        "ax2 = plt.subplot(gs[0,1])\n",
        "ax3 = plt.subplot(gs[1,0])\n",
        "ax4 = plt.subplot(gs[1,1])\n",
        "\n",
        "ax1_info =[]\n",
        "ax2_info =[]\n",
        "ax3_info =[]\n",
        "ax4_info =[]\n",
        "\n",
        "plt.setp(ax1.get_xticklabels(), visible=False)\n",
        "plt.setp(ax2.get_xticklabels(), visible=False)\n",
        "\n",
        "for index,clf in enumerate(confusion_matrix_list):\n",
        "    for index1,info_list in enumerate(clf):\n",
        "        counter = 1\n",
        "        for index2,info in enumerate(info_list):\n",
        "            if index1 == 0:\n",
        "                if index2 == 0 :\n",
        "                    ax1_info.append(info)\n",
        "                elif index2 == 1 :\n",
        "                    ax2_info.append(info)\n",
        "            elif index1 == 1:\n",
        "                if index2 == 0 :\n",
        "                    ax3_info.append(info)\n",
        "                elif index2 == 1 :\n",
        "                    ax4_info.append(info)\n",
        "\n",
        "for index in range(1,len(ax1_info)+1):\n",
        "    ax1.bar(index , ax1_info[index-1])\n",
        "    ax2.bar(index , ax2_info[index-1])\n",
        "    ax3.bar(index , ax3_info[index-1])\n",
        "    ax4.bar(index , ax4_info[index-1])\n",
        "\n",
        "ax1.set_title(\"True Negative\")\n",
        "ax2.set_title(\"False Positive\")\n",
        "ax3.set_title(\"False Negative\")\n",
        "ax4.set_title(\"True Positive\")\n",
        "\n",
        "labels.insert(0,\"None\")\n",
        "ax3.set_xticklabels(labels)\n",
        "ax4.set_xticklabels(labels)\n",
        "\n",
        "for labelax3,labelax4 in zip(ax3.get_xticklabels(),ax4.get_xticklabels()):\n",
        "    labelax3.set_rotation(90)\n",
        "    labelax4.set_rotation(90)"
      ],
      "metadata": {
        "id": "GgQ5jNSNmc5f"
      },
      "execution_count": null,
      "outputs": []
    },
    {
      "cell_type": "markdown",
      "source": [
        "When evaluating a classification machine learning model, it's essential to use appropriate metrics that reflect its performance accurately. Metrics such as accuracy, precision, recall (sensitivity), and F1-score are suitable for assessing classification models. Accuracy measures the proportion of correctly classified instances out of the total instances, providing an overall view of the model's correctness. Precision quantifies the accuracy of positive predictions, while recall (sensitivity) measures the proportion of actual positives that are correctly identified by the model. The F1-score, which is the harmonic mean of precision and recall, balances these two metrics and is particularly useful in scenarios where there is an uneven class distribution.\n"
      ],
      "metadata": {
        "id": "yxu8I804oewK"
      }
    }
  ]
}