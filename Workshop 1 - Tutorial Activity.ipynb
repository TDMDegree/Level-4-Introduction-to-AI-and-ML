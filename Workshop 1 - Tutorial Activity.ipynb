{
  "nbformat": 4,
  "nbformat_minor": 0,
  "metadata": {
    "colab": {
      "provenance": [],
      "authorship_tag": "ABX9TyOO64WTEvEGdPYJBYVN23UG",
      "include_colab_link": true
    },
    "kernelspec": {
      "name": "python3",
      "display_name": "Python 3"
    },
    "language_info": {
      "name": "python"
    }
  },
  "cells": [
    {
      "cell_type": "markdown",
      "metadata": {
        "id": "view-in-github",
        "colab_type": "text"
      },
      "source": [
        "<a href=\"https://colab.research.google.com/github/TDMDegree/Level-4-Introduction-to-AI-and-ML/blob/main/Workshop%201%20-%20Tutorial%20Activity.ipynb\" target=\"_parent\"><img src=\"https://colab.research.google.com/assets/colab-badge.svg\" alt=\"Open In Colab\"/></a>"
      ]
    },
    {
      "cell_type": "code",
      "execution_count": null,
      "metadata": {
        "id": "jewti8ZkB5ee"
      },
      "outputs": [],
      "source": []
    },
    {
      "cell_type": "markdown",
      "source": [
        "\n",
        "Introduction\n",
        "\n",
        "The adult dataset is from the 1994 Census database. Details of this dataset can be found at UCI Machine Learning Repository. My main aim is to create a simple GUI, so that users can input their own data and get a prediction of whether their income will exceed $50,000. The objectives that I will follow to complete my main aim are set out below :\n",
        "\n",
        "    Clean the data - Replace or delete missing data,\n",
        "    Explore the data - delete any unnecessary fields and reduce the variance of individual features\n",
        "    Normalise the data - convert the needed data for modelling\n",
        "    Explore the machine learning algorithms\n",
        "    Optimise the selected machine learning algorithm\n",
        "    Create the GUI\n",
        "\n"
      ],
      "metadata": {
        "id": "1tdoOXXvB7JQ"
      }
    },
    {
      "cell_type": "markdown",
      "source": [
        "Stage 1 : Exploratory data analysis (EDA)"
      ],
      "metadata": {
        "id": "_h5BHf_PB_KM"
      }
    }
  ]
}