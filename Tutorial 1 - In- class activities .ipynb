{
  "nbformat": 4,
  "nbformat_minor": 0,
  "metadata": {
    "colab": {
      "provenance": [],
      "authorship_tag": "ABX9TyPKtOk6+sxB1o2Ht/g1JzjJ",
      "include_colab_link": true
    },
    "kernelspec": {
      "name": "python3",
      "display_name": "Python 3"
    },
    "language_info": {
      "name": "python"
    }
  },
  "cells": [
    {
      "cell_type": "markdown",
      "metadata": {
        "id": "view-in-github",
        "colab_type": "text"
      },
      "source": [
        "<a href=\"https://colab.research.google.com/github/TDMDegree/Level-4-Introduction-to-AI-and-ML/blob/main/Tutorial%201%20-%20In-%20class%20activities%20.ipynb\" target=\"_parent\"><img src=\"https://colab.research.google.com/assets/colab-badge.svg\" alt=\"Open In Colab\"/></a>"
      ]
    },
    {
      "cell_type": "code",
      "source": [
        "# Task 1 - Add the sample_customer_data.csv into your sample_data folder\n",
        "\n",
        "# Task 2 - Import all of the libraries that you will need\n",
        "\n",
        "\n",
        "# Task 3- load the data into a pandas dataframe\n",
        "\n",
        "\n",
        "#Task 4 - describe the data - Is there anything that you notice with the number of rows for each column and the max value\n",
        "\n",
        "#Task 5 - print out the first 5 rows of the data.  Do you get any more information ?\n",
        "\n",
        "\n",
        "# Task 6- print out all the information of the data. We should now understand the overview of our data now. What is the information in each column, count and datatype\n",
        "\n",
        "\n",
        "# Task 7 - Print out the unique values for all the catigorical data and the purchased column. Is there anything that you notice ?\n",
        "\n",
        "\n",
        "\n",
        "#Task 8- Print out any missing values\n",
        "\n",
        "\n",
        "# Task 9 - Think about what we need to do to this data :\n",
        "#Remove missing values from age,income and gender\n",
        "#change the gender and city from Categorical Variables\n",
        "# Find the outliers\n",
        "#Add scaling to the columns\n",
        "\n",
        "#Task 10 - complete all of the tasks from task 9\n",
        "\n",
        "\n"
      ],
      "metadata": {
        "id": "5KmNFb7af3h-"
      },
      "execution_count": 40,
      "outputs": []
    }
  ]
}