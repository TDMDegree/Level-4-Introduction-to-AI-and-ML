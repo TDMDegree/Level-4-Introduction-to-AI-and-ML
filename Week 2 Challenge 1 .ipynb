{
  "cells": [
    {
      "cell_type": "markdown",
      "metadata": {
        "id": "view-in-github",
        "colab_type": "text"
      },
      "source": [
        "<a href=\"https://colab.research.google.com/github/TDMDegree/Level-4-Introduction-to-AI-and-ML/blob/main/Week%202%20Challenge%201%20.ipynb\" target=\"_parent\"><img src=\"https://colab.research.google.com/assets/colab-badge.svg\" alt=\"Open In Colab\"/></a>"
      ]
    },
    {
      "cell_type": "markdown",
      "id": "3XE-GC7PvOBN",
      "metadata": {
        "id": "3XE-GC7PvOBN"
      },
      "source": [
        "# Pandas  exercise for Level 4\n"
      ]
    },
    {
      "cell_type": "markdown",
      "id": "q72dXwaog4h7",
      "metadata": {
        "id": "q72dXwaog4h7"
      },
      "source": [
        "## 1. Setup\n"
      ]
    },
    {
      "cell_type": "markdown",
      "id": "vSvx8LjDp6Yh",
      "metadata": {
        "id": "vSvx8LjDp6Yh"
      },
      "source": [
        "### Import\n",
        "\n",
        "Before moving on to learn pandas first we need to install it and import it. If you install [Anaconda distributions](https://www.anaconda.com/) on your local machine or using [Google Colab](https://research.google.com/colaboratory) then pandas will already be available there, otherwise, you follow this installation process from [pandas official's website](https://pandas.pydata.org/docs/getting_started/install.html)."
      ]
    },
    {
      "cell_type": "code",
      "execution_count": null,
      "id": "e7dcee3a",
      "metadata": {
        "id": "e7dcee3a"
      },
      "outputs": [],
      "source": [
        "# Importing libraries\n",
        "import numpy as np\n",
        "import pandas as pd"
      ]
    },
    {
      "cell_type": "code",
      "execution_count": null,
      "id": "CeSsGkTMiMcI",
      "metadata": {
        "id": "CeSsGkTMiMcI"
      },
      "outputs": [],
      "source": [
        "# we can set numbers for how many rows and columns will be displayed\n",
        "pd.set_option('display.min_rows', 10) #default will be 10\n",
        "pd.set_option('display.max_columns', 20)"
      ]
    },
    {
      "cell_type": "markdown",
      "id": "68cb06b1",
      "metadata": {
        "id": "68cb06b1"
      },
      "source": [
        "## 2. Loading Different Data Formats Into a Pandas Data Frame\n",
        "\n",
        "\n"
      ]
    },
    {
      "cell_type": "markdown",
      "id": "7_X0klbRI24J",
      "metadata": {
        "id": "7_X0klbRI24J"
      },
      "source": [
        "### Reading CSV file\n"
      ]
    },
    {
      "cell_type": "code",
      "execution_count": null,
      "id": "56739039",
      "metadata": {
        "colab": {
          "base_uri": "https://localhost:8080/",
          "height": 143
        },
        "id": "56739039",
        "outputId": "ae132d1b-c3c2-48df-9022-ec2533a42832"
      },
      "outputs": [
        {
          "output_type": "execute_result",
          "data": {
            "text/plain": [
              "  Transaction_date  Transaction_ID  Gender   Age Marital_status State_names  \\\n",
              "0         1/1/2019          151200  Female  19.0         Single      Kansas   \n",
              "1         1/1/2019          151201    Male  49.0         Single    Illinois   \n",
              "2         1/1/2019          151202    Male  63.0        Married  New Mexico   \n",
              "\n",
              "  Segment Employees_status Payment_method  Referal  Amount_spent  \n",
              "0   Basic     Unemployment          Other      1.0       2051.36  \n",
              "1   Basic    self-employed           Card      0.0        544.04  \n",
              "2   Basic          workers         PayPal      1.0       1572.60  "
            ],
            "text/html": [
              "\n",
              "\n",
              "  <div id=\"df-2e777771-47c8-4524-8481-a1e71c4a0620\">\n",
              "    <div class=\"colab-df-container\">\n",
              "      <div>\n",
              "<style scoped>\n",
              "    .dataframe tbody tr th:only-of-type {\n",
              "        vertical-align: middle;\n",
              "    }\n",
              "\n",
              "    .dataframe tbody tr th {\n",
              "        vertical-align: top;\n",
              "    }\n",
              "\n",
              "    .dataframe thead th {\n",
              "        text-align: right;\n",
              "    }\n",
              "</style>\n",
              "<table border=\"1\" class=\"dataframe\">\n",
              "  <thead>\n",
              "    <tr style=\"text-align: right;\">\n",
              "      <th></th>\n",
              "      <th>Transaction_date</th>\n",
              "      <th>Transaction_ID</th>\n",
              "      <th>Gender</th>\n",
              "      <th>Age</th>\n",
              "      <th>Marital_status</th>\n",
              "      <th>State_names</th>\n",
              "      <th>Segment</th>\n",
              "      <th>Employees_status</th>\n",
              "      <th>Payment_method</th>\n",
              "      <th>Referal</th>\n",
              "      <th>Amount_spent</th>\n",
              "    </tr>\n",
              "  </thead>\n",
              "  <tbody>\n",
              "    <tr>\n",
              "      <th>0</th>\n",
              "      <td>1/1/2019</td>\n",
              "      <td>151200</td>\n",
              "      <td>Female</td>\n",
              "      <td>19.0</td>\n",
              "      <td>Single</td>\n",
              "      <td>Kansas</td>\n",
              "      <td>Basic</td>\n",
              "      <td>Unemployment</td>\n",
              "      <td>Other</td>\n",
              "      <td>1.0</td>\n",
              "      <td>2051.36</td>\n",
              "    </tr>\n",
              "    <tr>\n",
              "      <th>1</th>\n",
              "      <td>1/1/2019</td>\n",
              "      <td>151201</td>\n",
              "      <td>Male</td>\n",
              "      <td>49.0</td>\n",
              "      <td>Single</td>\n",
              "      <td>Illinois</td>\n",
              "      <td>Basic</td>\n",
              "      <td>self-employed</td>\n",
              "      <td>Card</td>\n",
              "      <td>0.0</td>\n",
              "      <td>544.04</td>\n",
              "    </tr>\n",
              "    <tr>\n",
              "      <th>2</th>\n",
              "      <td>1/1/2019</td>\n",
              "      <td>151202</td>\n",
              "      <td>Male</td>\n",
              "      <td>63.0</td>\n",
              "      <td>Married</td>\n",
              "      <td>New Mexico</td>\n",
              "      <td>Basic</td>\n",
              "      <td>workers</td>\n",
              "      <td>PayPal</td>\n",
              "      <td>1.0</td>\n",
              "      <td>1572.60</td>\n",
              "    </tr>\n",
              "  </tbody>\n",
              "</table>\n",
              "</div>\n",
              "      <button class=\"colab-df-convert\" onclick=\"convertToInteractive('df-2e777771-47c8-4524-8481-a1e71c4a0620')\"\n",
              "              title=\"Convert this dataframe to an interactive table.\"\n",
              "              style=\"display:none;\">\n",
              "\n",
              "  <svg xmlns=\"http://www.w3.org/2000/svg\" height=\"24px\"viewBox=\"0 0 24 24\"\n",
              "       width=\"24px\">\n",
              "    <path d=\"M0 0h24v24H0V0z\" fill=\"none\"/>\n",
              "    <path d=\"M18.56 5.44l.94 2.06.94-2.06 2.06-.94-2.06-.94-.94-2.06-.94 2.06-2.06.94zm-11 1L8.5 8.5l.94-2.06 2.06-.94-2.06-.94L8.5 2.5l-.94 2.06-2.06.94zm10 10l.94 2.06.94-2.06 2.06-.94-2.06-.94-.94-2.06-.94 2.06-2.06.94z\"/><path d=\"M17.41 7.96l-1.37-1.37c-.4-.4-.92-.59-1.43-.59-.52 0-1.04.2-1.43.59L10.3 9.45l-7.72 7.72c-.78.78-.78 2.05 0 2.83L4 21.41c.39.39.9.59 1.41.59.51 0 1.02-.2 1.41-.59l7.78-7.78 2.81-2.81c.8-.78.8-2.07 0-2.86zM5.41 20L4 18.59l7.72-7.72 1.47 1.35L5.41 20z\"/>\n",
              "  </svg>\n",
              "      </button>\n",
              "\n",
              "\n",
              "\n",
              "    <div id=\"df-d134c2e3-ab10-486b-8449-9b57548a0cb9\">\n",
              "      <button class=\"colab-df-quickchart\" onclick=\"quickchart('df-d134c2e3-ab10-486b-8449-9b57548a0cb9')\"\n",
              "              title=\"Suggest charts.\"\n",
              "              style=\"display:none;\">\n",
              "\n",
              "<svg xmlns=\"http://www.w3.org/2000/svg\" height=\"24px\"viewBox=\"0 0 24 24\"\n",
              "     width=\"24px\">\n",
              "    <g>\n",
              "        <path d=\"M19 3H5c-1.1 0-2 .9-2 2v14c0 1.1.9 2 2 2h14c1.1 0 2-.9 2-2V5c0-1.1-.9-2-2-2zM9 17H7v-7h2v7zm4 0h-2V7h2v10zm4 0h-2v-4h2v4z\"/>\n",
              "    </g>\n",
              "</svg>\n",
              "      </button>\n",
              "    </div>\n",
              "\n",
              "<style>\n",
              "  .colab-df-quickchart {\n",
              "    background-color: #E8F0FE;\n",
              "    border: none;\n",
              "    border-radius: 50%;\n",
              "    cursor: pointer;\n",
              "    display: none;\n",
              "    fill: #1967D2;\n",
              "    height: 32px;\n",
              "    padding: 0 0 0 0;\n",
              "    width: 32px;\n",
              "  }\n",
              "\n",
              "  .colab-df-quickchart:hover {\n",
              "    background-color: #E2EBFA;\n",
              "    box-shadow: 0px 1px 2px rgba(60, 64, 67, 0.3), 0px 1px 3px 1px rgba(60, 64, 67, 0.15);\n",
              "    fill: #174EA6;\n",
              "  }\n",
              "\n",
              "  [theme=dark] .colab-df-quickchart {\n",
              "    background-color: #3B4455;\n",
              "    fill: #D2E3FC;\n",
              "  }\n",
              "\n",
              "  [theme=dark] .colab-df-quickchart:hover {\n",
              "    background-color: #434B5C;\n",
              "    box-shadow: 0px 1px 3px 1px rgba(0, 0, 0, 0.15);\n",
              "    filter: drop-shadow(0px 1px 2px rgba(0, 0, 0, 0.3));\n",
              "    fill: #FFFFFF;\n",
              "  }\n",
              "</style>\n",
              "\n",
              "    <script>\n",
              "      async function quickchart(key) {\n",
              "        const containerElement = document.querySelector('#' + key);\n",
              "        const charts = await google.colab.kernel.invokeFunction(\n",
              "            'suggestCharts', [key], {});\n",
              "      }\n",
              "    </script>\n",
              "\n",
              "      <script>\n",
              "\n",
              "function displayQuickchartButton(domScope) {\n",
              "  let quickchartButtonEl =\n",
              "    domScope.querySelector('#df-d134c2e3-ab10-486b-8449-9b57548a0cb9 button.colab-df-quickchart');\n",
              "  quickchartButtonEl.style.display =\n",
              "    google.colab.kernel.accessAllowed ? 'block' : 'none';\n",
              "}\n",
              "\n",
              "        displayQuickchartButton(document);\n",
              "      </script>\n",
              "      <style>\n",
              "    .colab-df-container {\n",
              "      display:flex;\n",
              "      flex-wrap:wrap;\n",
              "      gap: 12px;\n",
              "    }\n",
              "\n",
              "    .colab-df-convert {\n",
              "      background-color: #E8F0FE;\n",
              "      border: none;\n",
              "      border-radius: 50%;\n",
              "      cursor: pointer;\n",
              "      display: none;\n",
              "      fill: #1967D2;\n",
              "      height: 32px;\n",
              "      padding: 0 0 0 0;\n",
              "      width: 32px;\n",
              "    }\n",
              "\n",
              "    .colab-df-convert:hover {\n",
              "      background-color: #E2EBFA;\n",
              "      box-shadow: 0px 1px 2px rgba(60, 64, 67, 0.3), 0px 1px 3px 1px rgba(60, 64, 67, 0.15);\n",
              "      fill: #174EA6;\n",
              "    }\n",
              "\n",
              "    [theme=dark] .colab-df-convert {\n",
              "      background-color: #3B4455;\n",
              "      fill: #D2E3FC;\n",
              "    }\n",
              "\n",
              "    [theme=dark] .colab-df-convert:hover {\n",
              "      background-color: #434B5C;\n",
              "      box-shadow: 0px 1px 3px 1px rgba(0, 0, 0, 0.15);\n",
              "      filter: drop-shadow(0px 1px 2px rgba(0, 0, 0, 0.3));\n",
              "      fill: #FFFFFF;\n",
              "    }\n",
              "  </style>\n",
              "\n",
              "      <script>\n",
              "        const buttonEl =\n",
              "          document.querySelector('#df-2e777771-47c8-4524-8481-a1e71c4a0620 button.colab-df-convert');\n",
              "        buttonEl.style.display =\n",
              "          google.colab.kernel.accessAllowed ? 'block' : 'none';\n",
              "\n",
              "        async function convertToInteractive(key) {\n",
              "          const element = document.querySelector('#df-2e777771-47c8-4524-8481-a1e71c4a0620');\n",
              "          const dataTable =\n",
              "            await google.colab.kernel.invokeFunction('convertToInteractive',\n",
              "                                                     [key], {});\n",
              "          if (!dataTable) return;\n",
              "\n",
              "          const docLinkHtml = 'Like what you see? Visit the ' +\n",
              "            '<a target=\"_blank\" href=https://colab.research.google.com/notebooks/data_table.ipynb>data table notebook</a>'\n",
              "            + ' to learn more about interactive tables.';\n",
              "          element.innerHTML = '';\n",
              "          dataTable['output_type'] = 'display_data';\n",
              "          await google.colab.output.renderOutput(dataTable, element);\n",
              "          const docLink = document.createElement('div');\n",
              "          docLink.innerHTML = docLinkHtml;\n",
              "          element.appendChild(docLink);\n",
              "        }\n",
              "      </script>\n",
              "    </div>\n",
              "  </div>\n"
            ]
          },
          "metadata": {},
          "execution_count": 10
        }
      ],
      "source": [
        "# read csv file\n",
        "\n",
        "url='https://raw.githubusercontent.com/tdmhub/L4DA_resources/main/online_store_customer_data.csv'\n",
        "df = df = pd.read_csv(url,delimiter=',')\n",
        "df.head(3)"
      ]
    },
    {
      "cell_type": "markdown",
      "id": "qNhba27PwpUa",
      "metadata": {
        "id": "qNhba27PwpUa"
      },
      "source": [
        "Exercises\n"
      ]
    },
    {
      "cell_type": "markdown",
      "id": "10a5b306",
      "metadata": {
        "id": "10a5b306"
      },
      "source": [
        "Question 1 : Display the first 3 rows\n"
      ]
    },
    {
      "cell_type": "code",
      "execution_count": null,
      "id": "cbc7a3df",
      "metadata": {
        "id": "cbc7a3df"
      },
      "outputs": [],
      "source": [
        "# Question 1 display first 3 rows"
      ]
    },
    {
      "cell_type": "markdown",
      "source": [
        "Question 2 : Display the last 10 rows"
      ],
      "metadata": {
        "id": "rvMVCFg2du_A"
      },
      "id": "rvMVCFg2du_A"
    },
    {
      "cell_type": "code",
      "execution_count": null,
      "id": "58d4f7c8",
      "metadata": {
        "id": "58d4f7c8"
      },
      "outputs": [],
      "source": [
        "# display last 10 rows"
      ]
    },
    {
      "cell_type": "markdown",
      "source": [
        "Question 3 : Display the datatypes of the dataset"
      ],
      "metadata": {
        "id": "04LQXlmOdy81"
      },
      "id": "04LQXlmOdy81"
    },
    {
      "cell_type": "code",
      "execution_count": null,
      "id": "36e099c7",
      "metadata": {
        "id": "36e099c7"
      },
      "outputs": [],
      "source": [
        "# Display the datatype of the dataset"
      ]
    },
    {
      "cell_type": "markdown",
      "source": [
        "Question 4: Display all the column names within the dataset\n"
      ],
      "metadata": {
        "id": "XjQKdodPeYME"
      },
      "id": "XjQKdodPeYME"
    },
    {
      "cell_type": "code",
      "source": [
        "#Display the column names"
      ],
      "metadata": {
        "id": "uyFCWCsufD8E"
      },
      "id": "uyFCWCsufD8E",
      "execution_count": null,
      "outputs": []
    },
    {
      "cell_type": "markdown",
      "source": [
        "Question 5 : Display the 5nd to 11th rows within the dataset"
      ],
      "metadata": {
        "id": "noNblZFWek8q"
      },
      "id": "noNblZFWek8q"
    },
    {
      "cell_type": "code",
      "execution_count": null,
      "id": "74baf9db",
      "metadata": {
        "id": "74baf9db"
      },
      "outputs": [],
      "source": [
        "#for display 5nd to 11th rows"
      ]
    },
    {
      "cell_type": "markdown",
      "source": [
        "Question 6 : Remove the referal column from the dataset."
      ],
      "metadata": {
        "id": "79yT-M-9fcoh"
      },
      "id": "79yT-M-9fcoh"
    },
    {
      "cell_type": "code",
      "execution_count": null,
      "id": "20qnnoofpPfn",
      "metadata": {
        "id": "20qnnoofpPfn"
      },
      "outputs": [],
      "source": [
        "#Drop \t\"Referal\" unwanted column"
      ]
    },
    {
      "cell_type": "markdown",
      "id": "jtlvWfg7KR_Q",
      "metadata": {
        "id": "jtlvWfg7KR_Q"
      },
      "source": [
        "Question 7 : Create a new dataframe and then rename the column \"Amount_spent\" to payment"
      ]
    },
    {
      "cell_type": "code",
      "execution_count": null,
      "id": "0StjAOVBKdMR",
      "metadata": {
        "id": "0StjAOVBKdMR"
      },
      "outputs": [],
      "source": [
        "# create new df_col dataframe from df.copy() method.\n",
        "\n",
        "\n",
        "# rename column name  Amount_spent to payment\n"
      ]
    },
    {
      "cell_type": "markdown",
      "id": "HXspyxQwg5wn",
      "metadata": {
        "id": "HXspyxQwg5wn"
      },
      "source": [
        "Question 8 : Add a new payment_pounds column which value will convert dollar amount into pounds  based on the following exchnage rate ( 1 Dollar to 0.80 Pounds)\n",
        "\n"
      ]
    },
    {
      "cell_type": "code",
      "execution_count": null,
      "id": "te1hhuRlhN-l",
      "metadata": {
        "id": "te1hhuRlhN-l"
      },
      "outputs": [],
      "source": [
        "# Add a new payment_pounds column which value will convert dollar amount into pounds\n",
        "df_col['payment_pounds'] ="
      ]
    },
    {
      "cell_type": "code",
      "execution_count": null,
      "id": "2bXmRJsHig4t",
      "metadata": {
        "id": "2bXmRJsHig4t"
      },
      "outputs": [],
      "source": [
        "#Check the new values\n"
      ]
    },
    {
      "cell_type": "markdown",
      "id": "dcf97600",
      "metadata": {
        "id": "dcf97600"
      },
      "source": [
        "Question 9 : Find out how many duplicate rows there are."
      ]
    },
    {
      "cell_type": "code",
      "execution_count": 1,
      "id": "dc549528",
      "metadata": {
        "id": "dc549528"
      },
      "outputs": [],
      "source": [
        "# Display duplicated entries\n"
      ]
    },
    {
      "cell_type": "markdown",
      "source": [
        "Question 10 : Remove all of the duplicated rows from the dataset"
      ],
      "metadata": {
        "id": "ttFH_6z1g-9Q"
      },
      "id": "ttFH_6z1g-9Q"
    },
    {
      "cell_type": "markdown",
      "id": "44ff83e8",
      "metadata": {
        "id": "44ff83e8"
      },
      "source": [
        "Question 11 : Display missing value count and sort them least to most"
      ]
    },
    {
      "cell_type": "code",
      "execution_count": 2,
      "id": "e6ecbaa3",
      "metadata": {
        "id": "e6ecbaa3"
      },
      "outputs": [],
      "source": [
        "# Display missing value count and sort them least to most\n"
      ]
    },
    {
      "cell_type": "markdown",
      "id": "5CV_qntnTpja",
      "metadata": {
        "id": "5CV_qntnTpja"
      },
      "source": [
        "Question 12 : Delete all records that have a Nan in the referal column."
      ]
    },
    {
      "cell_type": "code",
      "source": [
        "#Delete all records that have a Nan in the referal column."
      ],
      "metadata": {
        "id": "nMfD9bdQGq-9"
      },
      "id": "nMfD9bdQGq-9",
      "execution_count": null,
      "outputs": []
    },
    {
      "cell_type": "markdown",
      "id": "615ac388",
      "metadata": {
        "id": "615ac388"
      },
      "source": [
        "Questions 13 : Change all Nan from the column \"Amount_Spent\" to the mean value of that column."
      ]
    },
    {
      "cell_type": "code",
      "execution_count": null,
      "id": "5a25d8d4",
      "metadata": {
        "id": "5a25d8d4"
      },
      "outputs": [],
      "source": [
        "# Impute Mean in all Nan values from Amount_Spent column\n",
        "\n"
      ]
    },
    {
      "cell_type": "code",
      "execution_count": null,
      "id": "bedd8b71",
      "metadata": {
        "id": "bedd8b71"
      },
      "outputs": [],
      "source": [
        "df_new.describe(include=object).T"
      ]
    }
  ],
  "metadata": {
    "colab": {
      "provenance": [],
      "include_colab_link": true
    },
    "kernelspec": {
      "display_name": "Python 3",
      "language": "python",
      "name": "python3"
    },
    "language_info": {
      "codemirror_mode": {
        "name": "ipython",
        "version": 3
      },
      "file_extension": ".py",
      "mimetype": "text/x-python",
      "name": "python",
      "nbconvert_exporter": "python",
      "pygments_lexer": "ipython3",
      "version": "3.8.8"
    }
  },
  "nbformat": 4,
  "nbformat_minor": 5
}