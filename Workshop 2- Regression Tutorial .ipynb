{
  "nbformat": 4,
  "nbformat_minor": 0,
  "metadata": {
    "colab": {
      "provenance": [],
      "authorship_tag": "ABX9TyP9yCua54W7ai2LwLIlsqG1",
      "include_colab_link": true
    },
    "kernelspec": {
      "name": "python3",
      "display_name": "Python 3"
    },
    "language_info": {
      "name": "python"
    }
  },
  "cells": [
    {
      "cell_type": "markdown",
      "metadata": {
        "id": "view-in-github",
        "colab_type": "text"
      },
      "source": [
        "<a href=\"https://colab.research.google.com/github/TDMDegree/Level-4-Introduction-to-AI-and-ML/blob/main/Workshop%202-%20Regression%20Tutorial%20.ipynb\" target=\"_parent\"><img src=\"https://colab.research.google.com/assets/colab-badge.svg\" alt=\"Open In Colab\"/></a>"
      ]
    },
    {
      "cell_type": "markdown",
      "source": [
        "# Task 3 - Part B - Simple regression\n",
        "\n",
        "Regression is a fundamental statistical and machine learning technique used to model and analyze the relationships between variables. Specifically, regression helps us understand how the dependent variable (the variable we want to predict) changes when one or more independent variables (the predictors) are varied. The most common form of regression is linear regression, where the relationship between the variables is modeled as a straight line.\n",
        "\n",
        "In this tutorial, we'll walk through the process of performing a regression analysis in three stages:\n",
        "\n",
        "**Stage 1: Exploring the Data**\n",
        "\n",
        "Before diving into modeling, it's crucial to understand and prepare the data. In this stage, we will:\n",
        "\n",
        "\n",
        "1) Clean the Data: We'll remove any missing values and handle any duplicates to ensure the dataset is complete and free of errors.\n",
        "\n",
        "2) Check for Correlations: We'll explore the relationships between the variables to identify which ones might be the most influential in predicting the dependent variable.\n",
        "\n",
        "3) Visualise Distributions: By examining the distribution of the data, we'll gain insights into the data's underlying patterns and potential anomalies.\n",
        "\n",
        "4) Examining the outliers :Outliers are data points that significantly differ from other observations in the dataset. These can have a substantial impact on the performance and accuracy of a regression model.\n",
        "\n",
        "**Stage 2: Building the Regression Model**\n",
        "\n",
        "With a clean and well-understood dataset, we can proceed to develop our regression model. This involves:\n",
        "\n",
        "Training the Model: Using our prepared dataset, we'll train the model to find the best-fit line (or curve) that minimizes the error between the predicted and actual values.\n",
        "\n",
        "**Stage 3: Evaluating the Model**\n",
        "\n",
        "Finally, we need to assess how well our regression model performs. To do this, we'll use:\n",
        "\n",
        "**Mean Squared Error (MSE)**: This metric measures the average squared difference between the actual and predicted values. A lower MSE indicates a better fit.\n",
        "\n",
        "**R² Value:** The R² value, or coefficient of determination, indicates how much of the variability in the dependent variable is explained by the independent variables. An R² value closer to 1 signifies a stronger relationship between the variables.\n",
        "\n",
        "By the end of this tutorial, you'll have a comprehensive understanding of how to perform regression analysis, from data preparation to model evaluation"
      ],
      "metadata": {
        "id": "YI9bLDGPQXee"
      }
    },
    {
      "cell_type": "code",
      "source": [
        "# Task 1 - import the dataset\n",
        "import pandas as pd\n",
        "import matplotlib.pyplot as plt\n",
        "from sklearn.model_selection import train_test_split\n",
        "from sklearn.linear_model import LinearRegression, Lasso, Ridge\n",
        "from sklearn.metrics import mean_squared_error, r2_score\n",
        "\n",
        "df = pd.read_csv(\"Salary_dataset.csv\")\n",
        "\n",
        "\n"
      ],
      "metadata": {
        "id": "OdOdqsuvcWQo"
      },
      "execution_count": 53,
      "outputs": []
    },
    {
      "cell_type": "code",
      "source": [
        "# Task 2 - Checking duplications and missing values\n",
        "\n",
        "print(\"Missing values:\\n\", df.isnull().sum())\n",
        "\n",
        "# Check for duplicates\n",
        "print(\"Duplicates:\\n\", df.duplicated().sum())"
      ],
      "metadata": {
        "colab": {
          "base_uri": "https://localhost:8080/"
        },
        "id": "Je8IU9tldIfz",
        "outputId": "328b857d-27e3-4af2-bb08-10e83ff556a1"
      },
      "execution_count": 54,
      "outputs": [
        {
          "output_type": "stream",
          "name": "stdout",
          "text": [
            "Missing values:\n",
            " Unnamed: 0         0\n",
            "YearsExperience    0\n",
            "Salary             0\n",
            "dtype: int64\n",
            "Duplicates:\n",
            " 0\n"
          ]
        }
      ]
    },
    {
      "cell_type": "markdown",
      "source": [
        "There are no missing values and no duplicated records, so no additional actions are needed. However, if you do find them, you will need to ensure that the appropriate actions are taken."
      ],
      "metadata": {
        "id": "c1zxv6Avi5uJ"
      }
    },
    {
      "cell_type": "code",
      "source": [
        "# Task 3 - Examining the correlation\n",
        "\n",
        "correlation = df.corr()\n",
        "print(\"Correlation:\\n\", correlation)"
      ],
      "metadata": {
        "colab": {
          "base_uri": "https://localhost:8080/"
        },
        "id": "m0Q8ceAndPEn",
        "outputId": "0ea9213c-969d-4751-8fe5-c9b9b7036f9c"
      },
      "execution_count": 55,
      "outputs": [
        {
          "output_type": "stream",
          "name": "stdout",
          "text": [
            "Correlation:\n",
            "                  Unnamed: 0  YearsExperience    Salary\n",
            "Unnamed: 0         1.000000         0.986460  0.960826\n",
            "YearsExperience    0.986460         1.000000  0.978242\n",
            "Salary             0.960826         0.978242  1.000000\n"
          ]
        }
      ]
    },
    {
      "cell_type": "markdown",
      "source": [
        "This high positive correlation (close to 1) indicates a strong linear relationship between years of experience and salary. This suggests that as years of experience increase, salary tends to increase as well, which is a typical expectation in many professions.\n",
        "\n",
        "In the context of a regression model, YearsExperience is likely to be a significant predictor of Salary."
      ],
      "metadata": {
        "id": "LO9eD4wojl5l"
      }
    },
    {
      "cell_type": "code",
      "source": [
        "# Task 4 - looking at the distribution\n",
        "\n",
        "plt.figure(figsize=(12, 5))\n",
        "\n",
        "# Distribution of YearsExperience\n",
        "plt.subplot(1, 2, 1)\n",
        "plt.hist(df['YearsExperience'], bins=5, color='blue', alpha=0.7)\n",
        "plt.title('Distribution of YearsExperience')\n",
        "\n",
        "# Distribution of Salary\n",
        "plt.subplot(1, 2, 2)\n",
        "plt.hist(df['Salary'], bins=5, color='green', alpha=0.7)\n",
        "plt.title('Distribution of Salary')\n",
        "\n",
        "plt.show()"
      ],
      "metadata": {
        "colab": {
          "base_uri": "https://localhost:8080/",
          "height": 488
        },
        "id": "lUyZhxjndWxv",
        "outputId": "3ca97015-f9e7-4151-e6f1-94d83d7b7c46"
      },
      "execution_count": 56,
      "outputs": [
        {
          "output_type": "display_data",
          "data": {
            "text/plain": [
              "<Figure size 1200x500 with 2 Axes>"
            ],
            "image/png": "[encoded data removed]"
          },
          "metadata": {}
        }
      ]
    },
    {
      "cell_type": "markdown",
      "source": [
        "In simple linear regression, you have a single independent variable (predictor) and one dependent variable (response). Scaling is typically less of an issue here because:\n",
        "\n",
        "Single Predictor: With only one predictor, there's no concern about different ranges of predictors affecting the model. Scaling the predictor doesn’t change the nature of the relationship between the predictor and the response.\n",
        "\n",
        "**Multiple Regression**\n",
        "\n",
        "In multiple regression, where you have multiple predictors, scaling becomes more important due to several reasons:\n",
        "\n",
        "Different Ranges: Predictors may be on very different scales (e.g., age in years vs. income in thousands of dollars). Without scaling, predictors with larger ranges or units could disproportionately affect the model's performance and the coefficient estimates. Scaling ensures that all predictors contribute equally to the regression model.\n",
        "\n",
        "Regularization: If you’re using regularization techniques like Ridge or Lasso regression, scaling is crucial. Regularization methods add a penalty based on the magnitude of the coefficients. If predictors are on different scales, the regularization term will disproportionately penalize predictors with larger scales. Scaling normalizes the influence of each predictor, allowing regularization to work effectively.\n",
        "\n"
      ],
      "metadata": {
        "id": "xh1WulwxkFZh"
      }
    },
    {
      "cell_type": "code",
      "source": [
        "# Task 5 - dropping the outliers in the salary records\n",
        "Q1 = df['Salary'].quantile(0.25)\n",
        "Q3 = df['Salary'].quantile(0.75)\n",
        "IQR = Q3 - Q1\n",
        "\n",
        "# Define bounds for identifying outliers\n",
        "lower_bound = Q1 - 1.5 * IQR\n",
        "upper_bound = Q3 + 1.5 * IQR\n",
        "\n",
        "# Identify outliers\n",
        "df['outlier'] = (df['Salary'] < lower_bound) | (df['Salary'] > upper_bound)\n",
        "\n",
        "# Display the results\n",
        "print(df[df['outlier'] == True].sum())\n",
        "\n",
        "# Checking again to see if there is any outliers within a box plot\n",
        "plt.figure(figsize=(8, 6))\n",
        "plt.boxplot(df['Salary'], vert=False, patch_artist=True)\n",
        "plt.title('Box Plot of Salary')\n",
        "plt.xlabel('Salary')\n",
        "plt.grid(True)\n",
        "plt.show()"
      ],
      "metadata": {
        "colab": {
          "base_uri": "https://localhost:8080/",
          "height": 673
        },
        "id": "YWNA9rFYkhAE",
        "outputId": "517a2a78-5643-4d26-a29a-3893a04f125c"
      },
      "execution_count": 57,
      "outputs": [
        {
          "output_type": "stream",
          "name": "stdout",
          "text": [
            "Unnamed: 0         0.0\n",
            "YearsExperience    0.0\n",
            "Salary             0.0\n",
            "outlier            0.0\n",
            "dtype: float64\n"
          ]
        },
        {
          "output_type": "display_data",
          "data": {
            "text/plain": [
              "<Figure size 800x600 with 1 Axes>"
            ],
            "image/png": "[encoded data removed]"
          },
          "metadata": {}
        }
      ]
    },
    {
      "cell_type": "markdown",
      "source": [
        "Two methods were used to check for outliers: one was the box plot graph, and the other was the IQR mathematical approach. Neither showed any outliers, so no additional actions were required."
      ],
      "metadata": {
        "id": "5hJHejiLlX9x"
      }
    },
    {
      "cell_type": "code",
      "source": [
        "# Task 6 - Making the model\n",
        "x = df[['YearsExperience']].values\n",
        "y = df['Salary'].values\n",
        "\n",
        "X_train, X_test, y_train, y_test = train_test_split(x, y, test_size=0.2, random_state=42)\n",
        "\n",
        "linear_model = LinearRegression()\n",
        "linear_model.fit(X_train, y_train)\n",
        "lasso_model = Lasso(alpha=0.1)\n",
        "lasso_model.fit(X_train, y_train)\n",
        "ridge_model = Ridge(alpha=0.1)\n",
        "ridge_model.fit(X_train, y_train)\n"
      ],
      "metadata": {
        "colab": {
          "base_uri": "https://localhost:8080/",
          "height": 94
        },
        "id": "h5W47gDJfKty",
        "outputId": "56c4f238-4515-4a2a-8d86-79851bd43dba"
      },
      "execution_count": 58,
      "outputs": [
        {
          "output_type": "execute_result",
          "data": {
            "text/plain": [
              "Ridge(alpha=0.1)"
            ],
            "text/html": [
              "<style>#sk-container-id-4 {color: black;}#sk-container-id-4 pre{padding: 0;}#sk-container-id-4 div.sk-toggleable {background-color: white;}#sk-container-id-4 label.sk-toggleable__label {cursor: pointer;display: block;width: 100%;margin-bottom: 0;padding: 0.3em;box-sizing: border-box;text-align: center;}#sk-container-id-4 label.sk-toggleable__label-arrow:before {content: \"▸\";float: left;margin-right: 0.25em;color: #696969;}#sk-container-id-4 label.sk-toggleable__label-arrow:hover:before {color: black;}#sk-container-id-4 div.sk-estimator:hover label.sk-toggleable__label-arrow:before {color: black;}#sk-container-id-4 div.sk-toggleable__content {max-height: 0;max-width: 0;overflow: hidden;text-align: left;background-color: #f0f8ff;}#sk-container-id-4 div.sk-toggleable__content pre {margin: 0.2em;color: black;border-radius: 0.25em;background-color: #f0f8ff;}#sk-container-id-4 input.sk-toggleable__control:checked~div.sk-toggleable__content {max-height: 200px;max-width: 100%;overflow: auto;}#sk-container-id-4 input.sk-toggleable__control:checked~label.sk-toggleable__label-arrow:before {content: \"▾\";}#sk-container-id-4 div.sk-estimator input.sk-toggleable__control:checked~label.sk-toggleable__label {background-color: #d4ebff;}#sk-container-id-4 div.sk-label input.sk-toggleable__control:checked~label.sk-toggleable__label {background-color: #d4ebff;}#sk-container-id-4 input.sk-hidden--visually {border: 0;clip: rect(1px 1px 1px 1px);clip: rect(1px, 1px, 1px, 1px);height: 1px;margin: -1px;overflow: hidden;padding: 0;position: absolute;width: 1px;}#sk-container-id-4 div.sk-estimator {font-family: monospace;background-color: #f0f8ff;border: 1px dotted black;border-radius: 0.25em;box-sizing: border-box;margin-bottom: 0.5em;}#sk-container-id-4 div.sk-estimator:hover {background-color: #d4ebff;}#sk-container-id-4 div.sk-parallel-item::after {content: \"\";width: 100%;border-bottom: 1px solid gray;flex-grow: 1;}#sk-container-id-4 div.sk-label:hover label.sk-toggleable__label {background-color: #d4ebff;}#sk-container-id-4 div.sk-serial::before {content: \"\";position: absolute;border-left: 1px solid gray;box-sizing: border-box;top: 0;bottom: 0;left: 50%;z-index: 0;}#sk-container-id-4 div.sk-serial {display: flex;flex-direction: column;align-items: center;background-color: white;padding-right: 0.2em;padding-left: 0.2em;position: relative;}#sk-container-id-4 div.sk-item {position: relative;z-index: 1;}#sk-container-id-4 div.sk-parallel {display: flex;align-items: stretch;justify-content: center;background-color: white;position: relative;}#sk-container-id-4 div.sk-item::before, #sk-container-id-4 div.sk-parallel-item::before {content: \"\";position: absolute;border-left: 1px solid gray;box-sizing: border-box;top: 0;bottom: 0;left: 50%;z-index: -1;}#sk-container-id-4 div.sk-parallel-item {display: flex;flex-direction: column;z-index: 1;position: relative;background-color: white;}#sk-container-id-4 div.sk-parallel-item:first-child::after {align-self: flex-end;width: 50%;}#sk-container-id-4 div.sk-parallel-item:last-child::after {align-self: flex-start;width: 50%;}#sk-container-id-4 div.sk-parallel-item:only-child::after {width: 0;}#sk-container-id-4 div.sk-dashed-wrapped {border: 1px dashed gray;margin: 0 0.4em 0.5em 0.4em;box-sizing: border-box;padding-bottom: 0.4em;background-color: white;}#sk-container-id-4 div.sk-label label {font-family: monospace;font-weight: bold;display: inline-block;line-height: 1.2em;}#sk-container-id-4 div.sk-label-container {text-align: center;}#sk-container-id-4 div.sk-container {/* jupyter's `normalize.less` sets `[hidden] { display: none; }` but bootstrap.min.css set `[hidden] { display: none !important; }` so we also need the `!important` here to be able to override the default hidden behavior on the sphinx rendered scikit-learn.org. See: https://github.com/scikit-learn/scikit-learn/issues/21755 */display: inline-block !important;position: relative;}#sk-container-id-4 div.sk-text-repr-fallback {display: none;}</style><div id=\"sk-container-id-4\" class=\"sk-top-container\"><div class=\"sk-text-repr-fallback\"><pre>Ridge(alpha=0.1)</pre><b>In a Jupyter environment, please rerun this cell to show the HTML representation or trust the notebook. <br />On GitHub, the HTML representation is unable to render, please try loading this page with nbviewer.org.</b></div><div class=\"sk-container\" hidden><div class=\"sk-item\"><div class=\"sk-estimator sk-toggleable\"><input class=\"sk-toggleable__control sk-hidden--visually\" id=\"sk-estimator-id-4\" type=\"checkbox\" checked><label for=\"sk-estimator-id-4\" class=\"sk-toggleable__label sk-toggleable__label-arrow\">Ridge</label><div class=\"sk-toggleable__content\"><pre>Ridge(alpha=0.1)</pre></div></div></div></div></div>"
            ]
          },
          "metadata": {},
          "execution_count": 58
        }
      ]
    },
    {
      "cell_type": "markdown",
      "source": [
        "Three models were selected. In your report, it you select all three you might be ready to explain the differences."
      ],
      "metadata": {
        "id": "duMGyC9GlwR9"
      }
    },
    {
      "cell_type": "code",
      "source": [
        "# Evaluating the models\n",
        "\n",
        "y_pred_linear = linear_model.predict(X_test)\n",
        "mse_linear = mean_squared_error(y_test, y_pred_linear)\n",
        "r2_linear = r2_score(y_test, y_pred_linear)\n",
        "\n",
        "print(\"Linear Regression MSE:\", mse_linear)\n",
        "print(\"Linear Regression R²:\", r2_linear)\n",
        "\n",
        "y_pred_lasso = lasso_model.predict(X_test)\n",
        "mse_lasso = mean_squared_error(y_test, y_pred_lasso)\n",
        "r2_lasso = r2_score(y_test, y_pred_lasso)\n",
        "\n",
        "print(\"Lasso Regression MSE:\", mse_lasso)\n",
        "print(\"Lasso Regression R²:\", r2_lasso)\n",
        "\n",
        "y_pred_ridge = ridge_model.predict(X_test)\n",
        "mse_ridge = mean_squared_error(y_test, y_pred_ridge)\n",
        "r2_ridge = r2_score(y_test, y_pred_ridge)\n",
        "\n",
        "print(\"Ridge Regression MSE:\", mse_ridge)\n",
        "print(\"Ridge Regression R²:\", r2_ridge)"
      ],
      "metadata": {
        "colab": {
          "base_uri": "https://localhost:8080/"
        },
        "id": "wsm5daauf0rm",
        "outputId": "5ea039f0-5554-47f3-ffc8-28a6f7754656"
      },
      "execution_count": 59,
      "outputs": [
        {
          "output_type": "stream",
          "name": "stdout",
          "text": [
            "Linear Regression MSE: 49830096.855908394\n",
            "Linear Regression R²: 0.9024461774180497\n",
            "Lasso Regression MSE: 49830130.61850801\n",
            "Lasso Regression R²: 0.9024461113200314\n",
            "Ridge Regression MSE: 49843476.71904711\n",
            "Ridge Regression R²: 0.9024199832728009\n"
          ]
        }
      ]
    },
    {
      "cell_type": "markdown",
      "source": [
        "Definitions\n",
        "\n",
        "    Mean Squared Error (MSE): Measures the average squared difference between the predicted values and the actual values. Lower MSE values indicate better model performance.\n",
        "    R-squared (R2R2): Indicates the proportion of the variance in the dependent variable that is predictable from the independent variables. Values closer to 1 suggest a better fit.\n",
        "\n",
        "Metrics Provided\n",
        "\n",
        "    Linear Regression\n",
        "        MSE: 49,830,096.86\n",
        "        R²: 0.9024\n",
        "\n",
        "    Lasso Regression\n",
        "        MSE: 49,830,130.62\n",
        "        R²: 0.9024\n",
        "\n",
        "    Ridge Regression\n",
        "        MSE: 49,843,476.72\n",
        "        R²: 0.9024\n",
        "\n",
        "Analysis\n",
        "\n",
        "    MSE Comparison:\n",
        "        Linear Regression has the lowest MSE (49,830,096.86), suggesting it performs slightly better in terms of predicting accuracy compared to Lasso and Ridge regressions.\n",
        "        Lasso Regression has an MSE (49,830,130.62) almost identical to Linear Regression, but slightly higher.\n",
        "        Ridge Regression has the highest MSE (49,843,476.72), indicating it is marginally less accurate in predictions compared to both Linear and Lasso regressions.\n",
        "\n",
        "    R-squared Comparison:\n",
        "        All models have a very similar R2R2 value of 0.9024. This indicates that all three models explain approximately 90.24% of the variance in the response variable. There is very little difference in their explanatory power.\n",
        "\n",
        "    Model Performance:\n",
        "        The minimal differences in MSE suggest that all three models are very close in performance, with Linear Regression being the best by a small margin.\n",
        "        The similar R2R2 values indicate that the models perform similarly in terms of explaining the variance in the data.\n",
        "\n",
        "    Regularisation Effects:\n",
        "        Lasso Regression applies L1 regularisation, which can lead to sparse models where some coefficients are exactly zero. In this case, it has almost the same MSE and R2R2 as Linear Regression, suggesting that the sparsity induced by Lasso doesn’t have a significant effect on the model’s performance for this dataset.\n",
        "        Ridge Regression applies L2 regularisation, which penalises the size of the coefficients but doesn’t necessarily drive them to zero. The slight increase in MSE suggests that the Ridge regularisation might be slightly over-penalising the coefficients for this dataset.\n",
        "\n",
        "Summary\n",
        "\n",
        "    Overall Performance: Linear Regression has the best performance in terms of MSE, but the differences are minimal.\n",
        "    Model Fit: All models have similar R2R2 values, indicating that they all explain about 90.24% of the variance in the response variable.\n",
        "    Regularisation: The regularised models (Lasso and Ridge) don’t show a significant improvement over the standard Linear Regression in terms of predictive accuracy or explanatory power for this dataset."
      ],
      "metadata": {
        "id": "H6phXQz9mPmu"
      }
    }
  ]
}