{
  "nbformat": 4,
  "nbformat_minor": 0,
  "metadata": {
    "colab": {
      "provenance": [],
      "authorship_tag": "ABX9TyORtNd12/PZg/cRD5IX0MDX",
      "include_colab_link": true
    },
    "kernelspec": {
      "name": "python3",
      "display_name": "Python 3"
    },
    "language_info": {
      "name": "python"
    }
  },
  "cells": [
    {
      "cell_type": "markdown",
      "metadata": {
        "id": "view-in-github",
        "colab_type": "text"
      },
      "source": [
        "<a href=\"https://colab.research.google.com/github/TDMDegree/Level-4-Introduction-to-AI-and-ML/blob/main/Updated%20Tutorial.ipynb\" target=\"_parent\"><img src=\"https://colab.research.google.com/assets/colab-badge.svg\" alt=\"Open In Colab\"/></a>"
      ]
    },
    {
      "cell_type": "code",
      "execution_count": null,
      "metadata": {
        "id": "jewti8ZkB5ee"
      },
      "outputs": [],
      "source": []
    },
    {
      "cell_type": "markdown",
      "source": [
        "\n",
        "Introduction\n",
        "\n",
        "The adult dataset is from the 1994 Census database. Details of this dataset can be found at UCI Machine Learning Repository. My main aim is to create a simple GUI, so that users can input their own data and get a prediction of whether their income will exceed $50,000. The objectives that I will follow to complete my main aim are set out below :\n",
        "\n",
        "    Clean the data - Replace or delete missing data,\n",
        "    Explore the data - delete any unnecessary fields and reduce the variance of individual features\n",
        "    Normalise the data - convert the needed data for modelling\n",
        "    Explore the machine learning algorithms\n",
        "    Optimise the selected machine learning algorithm\n",
        "    Create the GUI\n",
        "\n"
      ],
      "metadata": {
        "id": "1tdoOXXvB7JQ"
      }
    },
    {
      "cell_type": "markdown",
      "source": [
        "Stage 1 : Exploratory data analysis (EDA)"
      ],
      "metadata": {
        "id": "_h5BHf_PB_KM"
      }
    },
    {
      "cell_type": "markdown",
      "source": [
        "Task 1 - Present the code tells me all of the columns, datatypes and\n",
        " records"
      ],
      "metadata": {
        "id": "G9NtzH0MChSB"
      }
    },
    {
      "cell_type": "code",
      "source": [
        "#Task 1 :\n",
        "# You will need to import the correct libraries , read the csv file Salary.txt and make sure that columns have the following names\n",
        "#names = [ \"age\" ,\"workclass\", \"fnlwgt\",\"education\",\"education-num\",\"marital-status\",\"occupation\",\n",
        "#\"relationship\",\"race\",\"sex\",\"capital-gain\",\"capital-loss\",\"hours-per-week\",\"native-country\",\"label\"]\n",
        "# You should complete task one."
      ],
      "metadata": {
        "id": "ERfjA111C1QZ"
      },
      "execution_count": null,
      "outputs": []
    },
    {
      "cell_type": "markdown",
      "source": [
        "Task 2- Which 2 columns do not explain the type of information it is storing ? Can you delete this 2 columns"
      ],
      "metadata": {
        "id": "qSuxX1bRDgDR"
      }
    },
    {
      "cell_type": "code",
      "source": [
        "# Add the code to drop the columns\n"
      ],
      "metadata": {
        "id": "JtwSMMGxHZVJ"
      },
      "execution_count": null,
      "outputs": []
    },
    {
      "cell_type": "markdown",
      "source": [
        "Task 3 - From the information file on the dataset, we know that all missing data was represented as \"?\". Change this to NaN"
      ],
      "metadata": {
        "id": "Kv2mWPCyHlZ2"
      }
    },
    {
      "cell_type": "code",
      "source": [
        "#Task 3 - Add the code to change all ? to NaN . In my answer, I used numpy.NaN"
      ],
      "metadata": {
        "id": "kf0gjTslH00W"
      },
      "execution_count": null,
      "outputs": []
    },
    {
      "cell_type": "markdown",
      "source": [
        "Task 4 - Produce a report on the total number of null values for each column"
      ],
      "metadata": {
        "id": "U5KArw3DIDhH"
      }
    }
  ]
}